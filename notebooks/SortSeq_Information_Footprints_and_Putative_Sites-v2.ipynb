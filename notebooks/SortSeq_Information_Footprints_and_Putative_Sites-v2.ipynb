{
 "cells": [
  {
   "cell_type": "code",
   "execution_count": 1,
   "metadata": {},
   "outputs": [],
   "source": [
    "#Import basic stuff\n",
    "from __future__ import division\n",
    "import numpy as np\n",
    "import matplotlib.pyplot as plt\n",
    "import pandas as pd\n",
    "from sklearn import linear_model\n",
    "\n",
    "#import the custom analysis software\n",
    "import scipy as sp\n",
    "import plot_informationfootprint\n",
    "import seaborn as sns\n",
    "#style file for plots\n",
    "import utils_functions\n",
    "utils_functions.pboc_style_mpl()\n",
    "import bokeh"
   ]
  },
  {
   "cell_type": "markdown",
   "metadata": {},
   "source": [
    "We will first load in a data set in a format accepted by the analysis software. The dataset must have the columns 'ct' 'ct_0','ct_1', and 'seq' where 'ct' is the total number of reads, 'ct_0' is the number of reads from the DNA library, and 'ct_1' is the number of reads from the RNAseq readout. "
   ]
  },
  {
   "cell_type": "code",
   "execution_count": 2,
   "metadata": {
    "scrolled": true
   },
   "outputs": [
    {
     "name": "stdout",
     "output_type": "stream",
     "text": [
      "        ct  ct_0  ct_1                                                seq\n",
      "0     10.0   5.0   5.0  AAACAAAAAAACACATGAACGTATCTACTTGGTTCAATATAAGGAT...\n",
      "1      2.0   2.0   0.0  AAACAAAAAAACACATGAACGTATCTACTTGGTTCAATATAAGGAT...\n",
      "2     10.0   1.0   9.0  AAACAAAAAAAGACAGGAACGTAATGACTGGGTGAAATATAATCAT...\n",
      "3      9.0   9.0   0.0  AAACAAAAAAAGACAGGAACGTAATTACTGGGTTAAATATTATCAT...\n",
      "4      1.0   1.0   0.0  AAACAAAAAAAGACAGGAACGTAATTACTGGGTTAAATATTATCAT...\n",
      "...    ...   ...   ...                                                ...\n",
      "5067   7.0   3.0   4.0  TTGCAAAAAACGACATGAACGTATTTCCTGGGTTTAATATAATCAG...\n",
      "5068   3.0   3.0   0.0  TTGCAAAAAACGACATGAACGTATTTCCTGGGTTTAATATAATCAG...\n",
      "5069  36.0   2.0  34.0  TTGCAAAAAACGACATGAACGTATTTCCTGGGTTTAATATAATCAG...\n",
      "5070   3.0   0.0   3.0  TTGCAAAAAACGACATGAACGTATTTCCTGGGTTTAATATAATCAG...\n",
      "5071  14.0   0.0  14.0  TTGCAAAAAACGACATGAACGTATTTCCTGGGTTTAATATAATCAG...\n",
      "\n",
      "[5072 rows x 4 columns]\n"
     ]
    }
   ],
   "source": [
    "genelabel = 'aphA'\n",
    "df = pd.io.parsers.read_csv('aphAAnaerodataset_alldone_with_large',delim_whitespace=True)\n",
    "print(df)"
   ]
  },
  {
   "cell_type": "markdown",
   "metadata": {},
   "source": [
    "we will define necessary functions here and also determine the Wild type sequence "
   ]
  },
  {
   "cell_type": "code",
   "execution_count": 3,
   "metadata": {},
   "outputs": [],
   "source": [
    "genedf = pd.io.parsers.read_csv('wtsequences.csv')\n",
    "\n",
    "wt = str(genedf.loc[genedf['name'] == genelabel,'geneseq'].tolist()[0])\n",
    "wtlist = np.array(list(wt))\n",
    "\n",
    "def Compute_Least_Squares(raveledmat,batch,alpha=0):\n",
    "    '''Ridge regression is the only sklearn regressor that supports sample\n",
    "        weights, which will make this much faster'''\n",
    "    clf = linear_model.Lasso(alpha=alpha)\n",
    "    #clf.fit(raveledmat,batch,sample_weight=sw)\n",
    "    clf.fit(raveledmat,batch)\n",
    "    emat = clf.coef_\n",
    "    return emat"
   ]
  },
  {
   "cell_type": "markdown",
   "metadata": {},
   "source": [
    "Our goal is to determine the effect of mutation at each position. To do this we first need to parameterize each sequence by whether or not each base pair is mutated. This produces an array of shape number sequences by length of sequence. "
   ]
  },
  {
   "cell_type": "code",
   "execution_count": 4,
   "metadata": {},
   "outputs": [],
   "source": [
    "taglength = 20 \n",
    "seqlength = len(df['seq'][0]) - taglength\n",
    "seq_dict,inv_dict = utils_functions.choose_dict('dna')\n",
    "\n",
    "'''we initialize our array where we parameterize the sequence. There is one entry per base pair which\n",
    "is equal to 1 for mutated, or 0 for wild type. We also include an additional 4 parameters (one for each of A,C,G,T)\n",
    "per basepair in the mRNA tag'''\n",
    "all_mutarr = np.zeros((len(df.index),seqlength))\n",
    "\n",
    "#We will now parameterize our sequences\n",
    "for i,row in df.iterrows():\n",
    "    s = np.array(list(row['seq']))\n",
    "    #clip off tag sequence\n",
    "    s_clipped = s[:seqlength]\n",
    "    #determine which bases are mutated\n",
    "    all_mutarr[i,:seqlength] = (wtlist != s_clipped)\n",
    "    #add in parameters for the tag\n",
    "    #tag_mat = seq2mat(s[seqlength:],seq_dict)\n",
    "    #all_mutarr[i,seqlength:] = tag_mat.ravel(order='F')\n",
    "\n",
    "#We will use the ratio of mRNA counts to DNA counts to regress against. We add a pseudocount of 1.\n",
    "thetarget = np.array((df['ct_0']+1)/(df['ct_1']+1))\n",
    "#We will center the mean to be 0\n",
    "thetarget = thetarget - np.mean(thetarget)"
   ]
  },
  {
   "cell_type": "markdown",
   "metadata": {},
   "source": [
    "We then need to fit the effect of mutation from the data. For illustration purposes we now show how this can be done using linear regression. We use a LASSO method, as we expect the number of base pairs that contribute significantly to be relatively low."
   ]
  },
  {
   "cell_type": "code",
   "execution_count": 5,
   "metadata": {},
   "outputs": [],
   "source": [
    "\n",
    "\n",
    "#We use Lasso regression with coefficient .03\n",
    "emat = Compute_Least_Squares(all_mutarr,thetarget,alpha=.03)"
   ]
  },
  {
   "cell_type": "markdown",
   "metadata": {},
   "source": [
    "We can now plot the results. We will see the effect of mutation on expression."
   ]
  },
  {
   "cell_type": "code",
   "execution_count": 6,
   "metadata": {
    "scrolled": true
   },
   "outputs": [
    {
     "name": "stderr",
     "output_type": "stream",
     "text": [
      "findfont: Font family ['Lucida Sans Unicode'] not found. Falling back to DejaVu Sans.\n",
      "findfont: Font family ['Lucida Sans Unicode'] not found. Falling back to DejaVu Sans.\n"
     ]
    },
    {
     "data": {
      "image/png": "[encoded data removed]",
      "text/plain": [
       "<Figure size 1008x144 with 1 Axes>"
      ]
     },
     "metadata": {
      "needs_background": "light"
     },
     "output_type": "display_data"
    }
   ],
   "source": [
    "fig,ax = plt.subplots(figsize=(14,2))\n",
    "ax.set_ylabel('Expression shift (Arbitrary units)')\n",
    "ax.set_xlabel('position')\n",
    "plt.bar(range(-115,-115+seqlength),emat,color='r')\n",
    "plt.show()"
   ]
  },
  {
   "cell_type": "markdown",
   "metadata": {},
   "source": [
    "We will now convert the expression shift into an information footprint."
   ]
  },
  {
   "cell_type": "code",
   "execution_count": 7,
   "metadata": {},
   "outputs": [],
   "source": [
    "smoothinfo, shiftcolors = plot_informationfootprint.main(emat)"
   ]
  },
  {
   "cell_type": "code",
   "execution_count": 9,
   "metadata": {},
   "outputs": [
    {
     "data": {
      "image/png": "[encoded data removed]",
      "text/plain": [
       "<Figure size 1008x144 with 1 Axes>"
      ]
     },
     "metadata": {
      "needs_background": "light"
     },
     "output_type": "display_data"
    }
   ],
   "source": [
    "fig,ax = plt.subplots(figsize=(14,2))\n",
    "ax.set_ylabel('Information(bits)')\n",
    "ax.set_xlabel('position')\n",
    "ax.bar(range(160),np.abs(smoothinfo),color=shiftcolors)\n",
    "plt.show()"
   ]
  },
  {
   "cell_type": "markdown",
   "metadata": {},
   "source": [
    "Determining the effect of mutation with a LASSO based method works well, and it has the advantage of having little computational cost. However, the LASSO results can be dependent on the regularization parameter (alpha), and we can do a better job using MCMC inference, and so the MCMC method was used to generate all information footprints displayed in the paper. The MCMC inference can be run from the command line, and we ran all our inference on the amazon cloud. The command is\n",
    "\n",
    "mpathic learn_model -i data_file_name -o model_file_out_name -db database_file_out_name --iterations 300000 --thin 30 --initialize rand\n",
    "\n",
    "Where:\n",
    "\n",
    "-i designates the input datafile name \n",
    "\n",
    "-o designates the output file name\n",
    "\n",
    "-db is the file name for saving all MCMC samples during the run\n",
    "\n",
    "--iterations is the number of MCMC iterations to run\n",
    "\n",
    "--initialize is how to initialize the inference, doing it randomly allows you to check that nomatter where you start\n",
    "    you will converge to the same answer\n",
    "\n",
    "It is important to check that if you run multiple MCMC chains, you will converge to the same answer, even though you start in different places.\n",
    "\n",
    "We can examine the output of one of those MCMC runs here."
   ]
  },
  {
   "cell_type": "code",
   "execution_count": 10,
   "metadata": {},
   "outputs": [],
   "source": [
    "#load in MCMC trace\n",
    "ematMCMC = np.load('aphA_database.npy')"
   ]
  },
  {
   "cell_type": "markdown",
   "metadata": {},
   "source": [
    "We can examine the distribution of a sampled parameter"
   ]
  },
  {
   "cell_type": "code",
   "execution_count": 1,
   "metadata": {},
   "outputs": [
    {
     "ename": "NameError",
     "evalue": "name 'plt' is not defined",
     "output_type": "error",
     "traceback": [
      "\u001b[0;31m---------------------------------------------------------------------------\u001b[0m",
      "\u001b[0;31mNameError\u001b[0m                                 Traceback (most recent call last)",
      "\u001b[0;32m<ipython-input-1-f1d0ce872de2>\u001b[0m in \u001b[0;36m<module>\u001b[0;34m\u001b[0m\n\u001b[0;32m----> 1\u001b[0;31m \u001b[0mhistogramplot\u001b[0m \u001b[0;34m=\u001b[0m \u001b[0mplt\u001b[0m\u001b[0;34m.\u001b[0m\u001b[0mhist\u001b[0m\u001b[0;34m(\u001b[0m\u001b[0mematMCMC\u001b[0m\u001b[0;34m[\u001b[0m\u001b[0;34m:\u001b[0m\u001b[0;34m,\u001b[0m\u001b[0;36m120\u001b[0m\u001b[0;34m]\u001b[0m\u001b[0;34m)\u001b[0m\u001b[0;34m\u001b[0m\u001b[0;34m\u001b[0m\u001b[0m\n\u001b[0m\u001b[1;32m      2\u001b[0m \u001b[0mplt\u001b[0m\u001b[0;34m.\u001b[0m\u001b[0mshow\u001b[0m\u001b[0;34m(\u001b[0m\u001b[0;34m)\u001b[0m\u001b[0;34m\u001b[0m\u001b[0;34m\u001b[0m\u001b[0m\n",
      "\u001b[0;31mNameError\u001b[0m: name 'plt' is not defined"
     ]
    }
   ],
   "source": [
    "histogramplot = plt.hist(ematMCMC[:,120])\n",
    "plt.show()"
   ]
  },
  {
   "cell_type": "markdown",
   "metadata": {},
   "source": []
  },
  {
   "cell_type": "code",
   "execution_count": null,
   "metadata": {},
   "outputs": [],
   "source": []
  }
 ],
 "metadata": {
  "kernelspec": {
   "display_name": "Python 3",
   "language": "python",
   "name": "python3"
  },
  "language_info": {
   "codemirror_mode": {
    "name": "ipython",
    "version": 3
   },
   "file_extension": ".py",
   "mimetype": "text/x-python",
   "name": "python",
   "nbconvert_exporter": "python",
   "pygments_lexer": "ipython3",
   "version": "3.6.9"
  }
 },
 "nbformat": 4,
 "nbformat_minor": 2
}
