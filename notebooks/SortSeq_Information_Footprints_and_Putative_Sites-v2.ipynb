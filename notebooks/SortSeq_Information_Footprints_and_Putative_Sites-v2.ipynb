{
 "cells": [
  {
   "cell_type": "markdown",
   "metadata": {},
   "source": [
    "## Tutorial : Constructing an energy matrix using Lasso regression and MCMC "
   ]
  },
  {
   "cell_type": "markdown",
   "metadata": {},
   "source": [
    "The code in this tutorial is released under the [MIT License](https://opensource.org/licenses/MIT). All the content in this notebook is under a [CC-by 4.0 License](https://creativecommons.org/licenses/by/4.0/). \n",
    "\n",
    "Created by Bill Ireland, Suzy Beleer and Manu Flores. "
   ]
  },
  {
   "cell_type": "code",
   "execution_count": null,
   "metadata": {
    "ExecuteTime": {
     "end_time": "2019-11-27T22:55:34.400432Z",
     "start_time": "2019-11-27T22:55:30.721870Z"
    }
   },
   "outputs": [],
   "source": [
    "#Import basic stuff\n",
    "from __future__ import division\n",
    "import numpy as np\n",
    "import matplotlib.pyplot as plt\n",
    "import pandas as pd\n",
    "from sklearn import linear_model\n",
    "\n",
    "#import the custom analysis software\n",
    "import scipy as sp\n",
    "import plot_informationfootprint as pli\n",
    "import seaborn as sns\n",
    "import viz\n",
    "import bokeh\n",
    "\n",
    "# Set PBoC plotting style \n",
    "viz.pboc_style_mpl()\n",
    "\n",
    "# Setting the inside the notebook\n",
    "%matplotlib inline\n",
    "# Get svg graphics from the notebook\n",
    "%config InlineBackend.figure_format = 'svg' "
   ]
  },
  {
   "cell_type": "markdown",
   "metadata": {},
   "source": [
    "We will first load in a data set in a format accepted by the analysis software. The dataset must have the columns 'ct' 'ct_0','ct_1', and 'seq' where 'ct' is the total number of reads, 'ct_0' is the number of reads from the DNA library, and 'ct_1' is the number of reads from the RNAseq readout. "
   ]
  },
  {
   "cell_type": "code",
   "execution_count": null,
   "metadata": {
    "ExecuteTime": {
     "end_time": "2019-11-27T22:55:34.411339Z",
     "start_time": "2019-11-27T22:55:34.404634Z"
    }
   },
   "outputs": [],
   "source": [
    "path = '../datasets/'"
   ]
  },
  {
   "cell_type": "code",
   "execution_count": null,
   "metadata": {
    "ExecuteTime": {
     "end_time": "2019-11-27T22:55:34.482934Z",
     "start_time": "2019-11-27T22:55:34.415866Z"
    },
    "scrolled": true
   },
   "outputs": [],
   "source": [
    "genelabel = 'aphA'\n",
    "df = pd.io.parsers.read_csv(path + 'aphAAnaerodataset_alldone_with_large',delim_whitespace=True)\n",
    "print(df)"
   ]
  },
  {
   "cell_type": "markdown",
   "metadata": {},
   "source": [
    "Let's will define necessary functions here and determine the wild type sequence."
   ]
  },
  {
   "cell_type": "code",
   "execution_count": null,
   "metadata": {
    "ExecuteTime": {
     "end_time": "2019-11-27T22:55:34.510096Z",
     "start_time": "2019-11-27T22:55:34.487702Z"
    }
   },
   "outputs": [],
   "source": [
    "genedf = pd.io.parsers.read_csv(path +'wtsequences.csv')\n",
    "\n",
    "wt = str(genedf.loc[genedf['name'] == genelabel,'geneseq'].tolist()[0])\n",
    "wtlist = np.array(list(wt))\n",
    "\n",
    "def Compute_Least_Squares(raveledmat,batch,alpha=0):\n",
    "    '''Ridge regression is the only sklearn regressor that supports sample\n",
    "        weights, which will make this much faster'''\n",
    "    clf = linear_model.Lasso(alpha=alpha)\n",
    "    #clf.fit(raveledmat,batch,sample_weight=sw)\n",
    "    clf.fit(raveledmat,batch)\n",
    "    emat = clf.coef_\n",
    "    return emat"
   ]
  },
  {
   "cell_type": "markdown",
   "metadata": {},
   "source": [
    "Our goal is to determine the effect of mutation at each position. To do this we first need to parameterize each sequence by whether or not each base pair is mutated. This produces an array of shape number sequences by length of sequence. "
   ]
  },
  {
   "cell_type": "code",
   "execution_count": null,
   "metadata": {
    "ExecuteTime": {
     "end_time": "2019-11-27T22:55:35.757844Z",
     "start_time": "2019-11-27T22:55:34.514822Z"
    }
   },
   "outputs": [],
   "source": [
    "taglength = 20 \n",
    "seqlength = len(df['seq'][0]) - taglength\n",
    "seq_dict,inv_dict = pli.choose_dict('dna')\n",
    "\n",
    "'''we initialize our array where we parameterize the sequence. There is one entry per base pair which\n",
    "is equal to 1 for mutated, or 0 for wild type. We also include an additional 4 parameters (one for each of A,C,G,T)\n",
    "per basepair in the mRNA tag'''\n",
    "all_mutarr = np.zeros((len(df.index),seqlength))\n",
    "\n",
    "#We will now parameterize our sequences\n",
    "for i,row in df.iterrows():\n",
    "    s = np.array(list(row['seq']))\n",
    "    #clip off tag sequence\n",
    "    s_clipped = s[:seqlength]\n",
    "    #determine which bases are mutated\n",
    "    all_mutarr[i,:seqlength] = (wtlist != s_clipped)\n",
    "    #add in parameters for the tag\n",
    "    #tag_mat = seq2mat(s[seqlength:],seq_dict)\n",
    "    #all_mutarr[i,seqlength:] = tag_mat.ravel(order='F')\n",
    "\n",
    "#We will use the ratio of mRNA counts to DNA counts to regress against. We add a pseudocount of 1.\n",
    "thetarget = np.array((df['ct_0']+1)/(df['ct_1']+1))\n",
    "#We will center the mean to be 0\n",
    "thetarget = thetarget - np.mean(thetarget)"
   ]
  },
  {
   "cell_type": "markdown",
   "metadata": {},
   "source": [
    "We then need to fit the effect of mutation from the data. For illustration purposes we now show how this can be done using linear regression. We use a LASSO method, as we expect the number of base pairs that contribute significantly to be relatively low."
   ]
  },
  {
   "cell_type": "code",
   "execution_count": null,
   "metadata": {
    "ExecuteTime": {
     "end_time": "2019-11-27T22:55:35.817406Z",
     "start_time": "2019-11-27T22:55:35.760900Z"
    }
   },
   "outputs": [],
   "source": [
    "#We use Lasso regression with coefficient .03\n",
    "emat = Compute_Least_Squares(all_mutarr,thetarget,alpha=.03)"
   ]
  },
  {
   "cell_type": "markdown",
   "metadata": {},
   "source": [
    "We can now plot the results. We will see the effect of mutation on expression."
   ]
  },
  {
   "cell_type": "code",
   "execution_count": null,
   "metadata": {
    "ExecuteTime": {
     "end_time": "2019-11-27T22:55:36.891452Z",
     "start_time": "2019-11-27T22:55:35.820387Z"
    },
    "scrolled": true
   },
   "outputs": [],
   "source": [
    "fig,ax = plt.subplots(figsize=(10,2))\n",
    "ax.set_ylabel('Expression shift (A.U.)')\n",
    "ax.set_xlabel('position')\n",
    "plt.bar(range(-115,-115+seqlength),emat,color='r')\n",
    "plt.show()"
   ]
  },
  {
   "cell_type": "markdown",
   "metadata": {},
   "source": [
    "We will now convert the expression shift into an information footprint."
   ]
  },
  {
   "cell_type": "code",
   "execution_count": null,
   "metadata": {
    "ExecuteTime": {
     "end_time": "2019-11-27T22:55:36.977751Z",
     "start_time": "2019-11-27T22:55:36.897062Z"
    }
   },
   "outputs": [],
   "source": [
    "smoothinfo, shiftcolors = pli.main(emat)"
   ]
  },
  {
   "cell_type": "code",
   "execution_count": null,
   "metadata": {
    "ExecuteTime": {
     "end_time": "2019-11-27T22:55:38.052707Z",
     "start_time": "2019-11-27T22:55:36.985613Z"
    }
   },
   "outputs": [],
   "source": [
    "fig,ax = plt.subplots(figsize=(10,2))\n",
    "ax.set_ylabel('Information (bits)')\n",
    "ax.set_xlabel('position')\n",
    "ax.bar(range(160),np.abs(smoothinfo),color=shiftcolors)\n",
    "plt.show()"
   ]
  },
  {
   "cell_type": "markdown",
   "metadata": {},
   "source": [
    "\n",
    "Determining the effect of mutation with a LASSO based method works well, and it has the advantage of having little computational cost. However, the LASSO results can be dependent on the regularization parameter (alpha), and we can do a better job using MCMC inference, and so the MCMC method was used to generate all information footprints displayed in the paper. The MCMC inference can be run from the command line, and we ran all our inference on the amazon cloud. The command is\n",
    "\n",
    "`mpathic learn_model -i data_file_name -o model_file_out_name -db database_file_out_name --iterations 300000 --thin 30 --initialize rand`\n",
    "\n",
    "Where:\n",
    "\n",
    "`-i` designates the input datafile name \n",
    "\n",
    "`-o` designates the output file name\n",
    "\n",
    "`-db` is the file name for saving all MCMC samples during the run\n",
    "\n",
    "`--iterations` is the number of MCMC iterations to run\n",
    "\n",
    "`--initialize` is how to initialize the inference, doing it randomly allows you to check that nomatter where you start you will converge to the same answer.\n",
    "\n",
    "It is important to check that if you run multiple MCMC chains, you will converge to the same answer, even though you start in different places.\n",
    "\n",
    "Let's can examine the output of one of those MCMC runs here."
   ]
  },
  {
   "cell_type": "code",
   "execution_count": null,
   "metadata": {
    "ExecuteTime": {
     "end_time": "2019-11-27T22:55:38.082496Z",
     "start_time": "2019-11-27T22:55:38.055131Z"
    }
   },
   "outputs": [],
   "source": [
    "#load in MCMC trace\n",
    "ematMCMC = np.load(path + 'aphA_database.npy')"
   ]
  },
  {
   "cell_type": "markdown",
   "metadata": {},
   "source": [
    "We can examine the distribution of a sampled parameter"
   ]
  },
  {
   "cell_type": "code",
   "execution_count": null,
   "metadata": {
    "ExecuteTime": {
     "end_time": "2019-11-27T22:55:38.583330Z",
     "start_time": "2019-11-27T22:55:38.084905Z"
    }
   },
   "outputs": [],
   "source": [
    "histogramplot = plt.hist(ematMCMC[:,120], bins = 30)\n",
    "plt.show()"
   ]
  },
  {
   "cell_type": "code",
   "execution_count": null,
   "metadata": {},
   "outputs": [],
   "source": []
  }
 ],
 "metadata": {
  "kernelspec": {
   "display_name": "Python 3",
   "language": "python",
   "name": "python3"
  },
  "language_info": {
   "codemirror_mode": {
    "name": "ipython",
    "version": 3
   },
   "file_extension": ".py",
   "mimetype": "text/x-python",
   "name": "python",
   "nbconvert_exporter": "python",
   "pygments_lexer": "ipython3",
   "version": "3.7.4"
  },
  "toc": {
   "base_numbering": 1,
   "nav_menu": {},
   "number_sections": true,
   "sideBar": true,
   "skip_h1_title": false,
   "title_cell": "Table of Contents",
   "title_sidebar": "Contents",
   "toc_cell": false,
   "toc_position": {},
   "toc_section_display": true,
   "toc_window_display": false
  },
  "varInspector": {
   "cols": {
    "lenName": 16,
    "lenType": 16,
    "lenVar": 40
   },
   "kernels_config": {
    "python": {
     "delete_cmd_postfix": "",
     "delete_cmd_prefix": "del ",
     "library": "var_list.py",
     "varRefreshCmd": "print(var_dic_list())"
    },
    "r": {
     "delete_cmd_postfix": ") ",
     "delete_cmd_prefix": "rm(",
     "library": "var_list.r",
     "varRefreshCmd": "cat(var_dic_list()) "
    }
   },
   "types_to_exclude": [
    "module",
    "function",
    "builtin_function_or_method",
    "instance",
    "_Feature"
   ],
   "window_display": false
  }
 },
 "nbformat": 4,
 "nbformat_minor": 2
}
